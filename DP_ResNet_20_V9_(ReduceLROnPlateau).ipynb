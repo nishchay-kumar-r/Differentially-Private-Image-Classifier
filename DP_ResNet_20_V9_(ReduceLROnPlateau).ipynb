{
  "nbformat": 4,
  "nbformat_minor": 0,
  "metadata": {
    "colab": {
      "provenance": [],
      "gpuType": "T4"
    },
    "kernelspec": {
      "name": "python3",
      "display_name": "Python 3"
    },
    "language_info": {
      "name": "python"
    },
    "accelerator": "GPU",
    "widgets": {
      "application/vnd.jupyter.widget-state+json": {
        "09e3a108033d49d98aa79ed8d7d8178c": {
          "model_module": "@jupyter-widgets/controls",
          "model_name": "HBoxModel",
          "model_module_version": "1.5.0",
          "state": {
            "_dom_classes": [],
            "_model_module": "@jupyter-widgets/controls",
            "_model_module_version": "1.5.0",
            "_model_name": "HBoxModel",
            "_view_count": null,
            "_view_module": "@jupyter-widgets/controls",
            "_view_module_version": "1.5.0",
            "_view_name": "HBoxView",
            "box_style": "",
            "children": [
              "IPY_MODEL_f7aa9c6a85a3490bbec6056968567ad8",
              "IPY_MODEL_d267396fb03b42988d8a95c7f91838b0",
              "IPY_MODEL_c6a189b4a3904c2c869e4626edf0e40d"
            ],
            "layout": "IPY_MODEL_9d140ce0f462421389fe0ff3e9a6e6fd"
          }
        },
        "f7aa9c6a85a3490bbec6056968567ad8": {
          "model_module": "@jupyter-widgets/controls",
          "model_name": "HTMLModel",
          "model_module_version": "1.5.0",
          "state": {
            "_dom_classes": [],
            "_model_module": "@jupyter-widgets/controls",
            "_model_module_version": "1.5.0",
            "_model_name": "HTMLModel",
            "_view_count": null,
            "_view_module": "@jupyter-widgets/controls",
            "_view_module_version": "1.5.0",
            "_view_name": "HTMLView",
            "description": "",
            "description_tooltip": null,
            "layout": "IPY_MODEL_ee40015b9e9b43179afcd668e8839421",
            "placeholder": "​",
            "style": "IPY_MODEL_3cee7777570e47958869494e415d18df",
            "value": "Epoch:   0%"
          }
        },
        "d267396fb03b42988d8a95c7f91838b0": {
          "model_module": "@jupyter-widgets/controls",
          "model_name": "FloatProgressModel",
          "model_module_version": "1.5.0",
          "state": {
            "_dom_classes": [],
            "_model_module": "@jupyter-widgets/controls",
            "_model_module_version": "1.5.0",
            "_model_name": "FloatProgressModel",
            "_view_count": null,
            "_view_module": "@jupyter-widgets/controls",
            "_view_module_version": "1.5.0",
            "_view_name": "ProgressView",
            "bar_style": "danger",
            "description": "",
            "description_tooltip": null,
            "layout": "IPY_MODEL_2a7f0bf5673b453e8f55063734e99551",
            "max": 50,
            "min": 0,
            "orientation": "horizontal",
            "style": "IPY_MODEL_44a132f73d42412c8499f594fd44ed91",
            "value": 0
          }
        },
        "c6a189b4a3904c2c869e4626edf0e40d": {
          "model_module": "@jupyter-widgets/controls",
          "model_name": "HTMLModel",
          "model_module_version": "1.5.0",
          "state": {
            "_dom_classes": [],
            "_model_module": "@jupyter-widgets/controls",
            "_model_module_version": "1.5.0",
            "_model_name": "HTMLModel",
            "_view_count": null,
            "_view_module": "@jupyter-widgets/controls",
            "_view_module_version": "1.5.0",
            "_view_name": "HTMLView",
            "description": "",
            "description_tooltip": null,
            "layout": "IPY_MODEL_bc46800953234cd382f8807dc00b95d8",
            "placeholder": "​",
            "style": "IPY_MODEL_a3d08d07d0b549f5bb5e078ac72240bd",
            "value": " 0/50 [00:05&lt;?, ?epoch/s]"
          }
        },
        "9d140ce0f462421389fe0ff3e9a6e6fd": {
          "model_module": "@jupyter-widgets/base",
          "model_name": "LayoutModel",
          "model_module_version": "1.2.0",
          "state": {
            "_model_module": "@jupyter-widgets/base",
            "_model_module_version": "1.2.0",
            "_model_name": "LayoutModel",
            "_view_count": null,
            "_view_module": "@jupyter-widgets/base",
            "_view_module_version": "1.2.0",
            "_view_name": "LayoutView",
            "align_content": null,
            "align_items": null,
            "align_self": null,
            "border": null,
            "bottom": null,
            "display": null,
            "flex": null,
            "flex_flow": null,
            "grid_area": null,
            "grid_auto_columns": null,
            "grid_auto_flow": null,
            "grid_auto_rows": null,
            "grid_column": null,
            "grid_gap": null,
            "grid_row": null,
            "grid_template_areas": null,
            "grid_template_columns": null,
            "grid_template_rows": null,
            "height": null,
            "justify_content": null,
            "justify_items": null,
            "left": null,
            "margin": null,
            "max_height": null,
            "max_width": null,
            "min_height": null,
            "min_width": null,
            "object_fit": null,
            "object_position": null,
            "order": null,
            "overflow": null,
            "overflow_x": null,
            "overflow_y": null,
            "padding": null,
            "right": null,
            "top": null,
            "visibility": null,
            "width": null
          }
        },
        "ee40015b9e9b43179afcd668e8839421": {
          "model_module": "@jupyter-widgets/base",
          "model_name": "LayoutModel",
          "model_module_version": "1.2.0",
          "state": {
            "_model_module": "@jupyter-widgets/base",
            "_model_module_version": "1.2.0",
            "_model_name": "LayoutModel",
            "_view_count": null,
            "_view_module": "@jupyter-widgets/base",
            "_view_module_version": "1.2.0",
            "_view_name": "LayoutView",
            "align_content": null,
            "align_items": null,
            "align_self": null,
            "border": null,
            "bottom": null,
            "display": null,
            "flex": null,
            "flex_flow": null,
            "grid_area": null,
            "grid_auto_columns": null,
            "grid_auto_flow": null,
            "grid_auto_rows": null,
            "grid_column": null,
            "grid_gap": null,
            "grid_row": null,
            "grid_template_areas": null,
            "grid_template_columns": null,
            "grid_template_rows": null,
            "height": null,
            "justify_content": null,
            "justify_items": null,
            "left": null,
            "margin": null,
            "max_height": null,
            "max_width": null,
            "min_height": null,
            "min_width": null,
            "object_fit": null,
            "object_position": null,
            "order": null,
            "overflow": null,
            "overflow_x": null,
            "overflow_y": null,
            "padding": null,
            "right": null,
            "top": null,
            "visibility": null,
            "width": null
          }
        },
        "3cee7777570e47958869494e415d18df": {
          "model_module": "@jupyter-widgets/controls",
          "model_name": "DescriptionStyleModel",
          "model_module_version": "1.5.0",
          "state": {
            "_model_module": "@jupyter-widgets/controls",
            "_model_module_version": "1.5.0",
            "_model_name": "DescriptionStyleModel",
            "_view_count": null,
            "_view_module": "@jupyter-widgets/base",
            "_view_module_version": "1.2.0",
            "_view_name": "StyleView",
            "description_width": ""
          }
        },
        "2a7f0bf5673b453e8f55063734e99551": {
          "model_module": "@jupyter-widgets/base",
          "model_name": "LayoutModel",
          "model_module_version": "1.2.0",
          "state": {
            "_model_module": "@jupyter-widgets/base",
            "_model_module_version": "1.2.0",
            "_model_name": "LayoutModel",
            "_view_count": null,
            "_view_module": "@jupyter-widgets/base",
            "_view_module_version": "1.2.0",
            "_view_name": "LayoutView",
            "align_content": null,
            "align_items": null,
            "align_self": null,
            "border": null,
            "bottom": null,
            "display": null,
            "flex": null,
            "flex_flow": null,
            "grid_area": null,
            "grid_auto_columns": null,
            "grid_auto_flow": null,
            "grid_auto_rows": null,
            "grid_column": null,
            "grid_gap": null,
            "grid_row": null,
            "grid_template_areas": null,
            "grid_template_columns": null,
            "grid_template_rows": null,
            "height": null,
            "justify_content": null,
            "justify_items": null,
            "left": null,
            "margin": null,
            "max_height": null,
            "max_width": null,
            "min_height": null,
            "min_width": null,
            "object_fit": null,
            "object_position": null,
            "order": null,
            "overflow": null,
            "overflow_x": null,
            "overflow_y": null,
            "padding": null,
            "right": null,
            "top": null,
            "visibility": null,
            "width": null
          }
        },
        "44a132f73d42412c8499f594fd44ed91": {
          "model_module": "@jupyter-widgets/controls",
          "model_name": "ProgressStyleModel",
          "model_module_version": "1.5.0",
          "state": {
            "_model_module": "@jupyter-widgets/controls",
            "_model_module_version": "1.5.0",
            "_model_name": "ProgressStyleModel",
            "_view_count": null,
            "_view_module": "@jupyter-widgets/base",
            "_view_module_version": "1.2.0",
            "_view_name": "StyleView",
            "bar_color": null,
            "description_width": ""
          }
        },
        "bc46800953234cd382f8807dc00b95d8": {
          "model_module": "@jupyter-widgets/base",
          "model_name": "LayoutModel",
          "model_module_version": "1.2.0",
          "state": {
            "_model_module": "@jupyter-widgets/base",
            "_model_module_version": "1.2.0",
            "_model_name": "LayoutModel",
            "_view_count": null,
            "_view_module": "@jupyter-widgets/base",
            "_view_module_version": "1.2.0",
            "_view_name": "LayoutView",
            "align_content": null,
            "align_items": null,
            "align_self": null,
            "border": null,
            "bottom": null,
            "display": null,
            "flex": null,
            "flex_flow": null,
            "grid_area": null,
            "grid_auto_columns": null,
            "grid_auto_flow": null,
            "grid_auto_rows": null,
            "grid_column": null,
            "grid_gap": null,
            "grid_row": null,
            "grid_template_areas": null,
            "grid_template_columns": null,
            "grid_template_rows": null,
            "height": null,
            "justify_content": null,
            "justify_items": null,
            "left": null,
            "margin": null,
            "max_height": null,
            "max_width": null,
            "min_height": null,
            "min_width": null,
            "object_fit": null,
            "object_position": null,
            "order": null,
            "overflow": null,
            "overflow_x": null,
            "overflow_y": null,
            "padding": null,
            "right": null,
            "top": null,
            "visibility": null,
            "width": null
          }
        },
        "a3d08d07d0b549f5bb5e078ac72240bd": {
          "model_module": "@jupyter-widgets/controls",
          "model_name": "DescriptionStyleModel",
          "model_module_version": "1.5.0",
          "state": {
            "_model_module": "@jupyter-widgets/controls",
            "_model_module_version": "1.5.0",
            "_model_name": "DescriptionStyleModel",
            "_view_count": null,
            "_view_module": "@jupyter-widgets/base",
            "_view_module_version": "1.2.0",
            "_view_name": "StyleView",
            "description_width": ""
          }
        }
      }
    }
  },
  "cells": [
    {
      "cell_type": "code",
      "source": [
        "!pip install torch torchvision torchaudio"
      ],
      "metadata": {
        "colab": {
          "base_uri": "https://localhost:8080/"
        },
        "id": "9AaSImenFc8M",
        "outputId": "56b72755-3357-491e-e696-b6b15a8c5aba"
      },
      "execution_count": 1,
      "outputs": [
        {
          "output_type": "stream",
          "name": "stdout",
          "text": [
            "Requirement already satisfied: torch in /usr/local/lib/python3.10/dist-packages (2.5.1+cu121)\n",
            "Requirement already satisfied: torchvision in /usr/local/lib/python3.10/dist-packages (0.20.1+cu121)\n",
            "Requirement already satisfied: torchaudio in /usr/local/lib/python3.10/dist-packages (2.5.1+cu121)\n",
            "Requirement already satisfied: filelock in /usr/local/lib/python3.10/dist-packages (from torch) (3.16.1)\n",
            "Requirement already satisfied: typing-extensions>=4.8.0 in /usr/local/lib/python3.10/dist-packages (from torch) (4.12.2)\n",
            "Requirement already satisfied: networkx in /usr/local/lib/python3.10/dist-packages (from torch) (3.4.2)\n",
            "Requirement already satisfied: jinja2 in /usr/local/lib/python3.10/dist-packages (from torch) (3.1.4)\n",
            "Requirement already satisfied: fsspec in /usr/local/lib/python3.10/dist-packages (from torch) (2024.10.0)\n",
            "Requirement already satisfied: sympy==1.13.1 in /usr/local/lib/python3.10/dist-packages (from torch) (1.13.1)\n",
            "Requirement already satisfied: mpmath<1.4,>=1.1.0 in /usr/local/lib/python3.10/dist-packages (from sympy==1.13.1->torch) (1.3.0)\n",
            "Requirement already satisfied: numpy in /usr/local/lib/python3.10/dist-packages (from torchvision) (1.26.4)\n",
            "Requirement already satisfied: pillow!=8.3.*,>=5.3.0 in /usr/local/lib/python3.10/dist-packages (from torchvision) (11.0.0)\n",
            "Requirement already satisfied: MarkupSafe>=2.0 in /usr/local/lib/python3.10/dist-packages (from jinja2->torch) (3.0.2)\n"
          ]
        }
      ]
    },
    {
      "cell_type": "code",
      "source": [
        "!pip install opacus"
      ],
      "metadata": {
        "colab": {
          "base_uri": "https://localhost:8080/"
        },
        "id": "YQAolC_XFh-i",
        "outputId": "ff299549-134f-4319-9754-1f3eef40fd1a"
      },
      "execution_count": 3,
      "outputs": [
        {
          "output_type": "stream",
          "name": "stdout",
          "text": [
            "Collecting opacus\n",
            "  Downloading opacus-1.5.2-py3-none-any.whl.metadata (7.9 kB)\n",
            "Requirement already satisfied: numpy<2.0,>=1.15 in /usr/local/lib/python3.10/dist-packages (from opacus) (1.26.4)\n",
            "Requirement already satisfied: torch>=2.0 in /usr/local/lib/python3.10/dist-packages (from opacus) (2.5.1+cu121)\n",
            "Requirement already satisfied: scipy>=1.2 in /usr/local/lib/python3.10/dist-packages (from opacus) (1.13.1)\n",
            "Requirement already satisfied: opt-einsum>=3.3.0 in /usr/local/lib/python3.10/dist-packages (from opacus) (3.4.0)\n",
            "Requirement already satisfied: filelock in /usr/local/lib/python3.10/dist-packages (from torch>=2.0->opacus) (3.16.1)\n",
            "Requirement already satisfied: typing-extensions>=4.8.0 in /usr/local/lib/python3.10/dist-packages (from torch>=2.0->opacus) (4.12.2)\n",
            "Requirement already satisfied: networkx in /usr/local/lib/python3.10/dist-packages (from torch>=2.0->opacus) (3.4.2)\n",
            "Requirement already satisfied: jinja2 in /usr/local/lib/python3.10/dist-packages (from torch>=2.0->opacus) (3.1.4)\n",
            "Requirement already satisfied: fsspec in /usr/local/lib/python3.10/dist-packages (from torch>=2.0->opacus) (2024.10.0)\n",
            "Requirement already satisfied: sympy==1.13.1 in /usr/local/lib/python3.10/dist-packages (from torch>=2.0->opacus) (1.13.1)\n",
            "Requirement already satisfied: mpmath<1.4,>=1.1.0 in /usr/local/lib/python3.10/dist-packages (from sympy==1.13.1->torch>=2.0->opacus) (1.3.0)\n",
            "Requirement already satisfied: MarkupSafe>=2.0 in /usr/local/lib/python3.10/dist-packages (from jinja2->torch>=2.0->opacus) (3.0.2)\n",
            "Downloading opacus-1.5.2-py3-none-any.whl (239 kB)\n",
            "\u001b[2K   \u001b[90m━━━━━━━━━━━━━━━━━━━━━━━━━━━━━━━━━━━━━━━━\u001b[0m \u001b[32m239.9/239.9 kB\u001b[0m \u001b[31m9.0 MB/s\u001b[0m eta \u001b[36m0:00:00\u001b[0m\n",
            "\u001b[?25hInstalling collected packages: opacus\n",
            "Successfully installed opacus-1.5.2\n"
          ]
        }
      ]
    },
    {
      "cell_type": "code",
      "execution_count": 4,
      "metadata": {
        "id": "OXx2SksCFVXv"
      },
      "outputs": [],
      "source": [
        "import warnings\n",
        "warnings.simplefilter(\"ignore\")\n",
        "\n",
        "#MAX_GRAD_NORM = 1.2\n",
        "EPSILON = 3.0\n",
        "DELTA = 1e-5\n",
        "EPOCHS = 50\n",
        "\n",
        "#Adaptive Clipping\n",
        "initial_clip_norm = 1.0\n",
        "eta_C = 0.2  # Learning rate for updating the clipping norm\n",
        "target_quantile = 0.5  # Target quantile, e.g., 0.5 for the median\n",
        "\n",
        "LR = 0.5\n",
        "\n",
        "PATIENCE_VAL = 2\n",
        "LR_FACTOR = 0.5"
      ]
    },
    {
      "cell_type": "code",
      "source": [
        "BATCH_SIZE = 4096\n",
        "MAX_PHYSICAL_BATCH_SIZE = 128"
      ],
      "metadata": {
        "id": "-pcI3wYLFnoW"
      },
      "execution_count": 5,
      "outputs": []
    },
    {
      "cell_type": "code",
      "source": [
        "import torch\n",
        "import torchvision\n",
        "import torchvision.transforms as transforms\n",
        "\n",
        "# These values, specific to the CIFAR10 dataset, are assumed to be known.\n",
        "# If necessary, they can be computed with modest privacy budgets.\n",
        "CIFAR10_MEAN = (0.4914, 0.4822, 0.4465)\n",
        "CIFAR10_STD_DEV = (0.2023, 0.1994, 0.2010)\n",
        "\n",
        "transform = transforms.Compose([\n",
        "    transforms.ToTensor(),\n",
        "    transforms.Normalize(CIFAR10_MEAN, CIFAR10_STD_DEV),\n",
        "])"
      ],
      "metadata": {
        "id": "PBbPBCZGFpb-"
      },
      "execution_count": 6,
      "outputs": []
    },
    {
      "cell_type": "code",
      "source": [
        "from torchvision.datasets import CIFAR10\n",
        "\n",
        "DATA_ROOT = '../cifar10'\n",
        "\n",
        "train_dataset = CIFAR10(\n",
        "    root=DATA_ROOT, train=True, download=True, transform=transform)\n",
        "\n",
        "train_loader = torch.utils.data.DataLoader(\n",
        "    train_dataset,\n",
        "    batch_size=BATCH_SIZE,\n",
        ")\n",
        "\n",
        "test_dataset = CIFAR10(\n",
        "    root=DATA_ROOT, train=False, download=True, transform=transform)\n",
        "\n",
        "test_loader = torch.utils.data.DataLoader(\n",
        "    test_dataset,\n",
        "    batch_size=BATCH_SIZE,\n",
        "    shuffle=False,\n",
        ")"
      ],
      "metadata": {
        "colab": {
          "base_uri": "https://localhost:8080/"
        },
        "id": "ycYpgyoVFs1T",
        "outputId": "580ac54a-6f3b-412a-8424-53b9ff45d9bf"
      },
      "execution_count": 7,
      "outputs": [
        {
          "output_type": "stream",
          "name": "stdout",
          "text": [
            "Downloading https://www.cs.toronto.edu/~kriz/cifar-10-python.tar.gz to ../cifar10/cifar-10-python.tar.gz\n"
          ]
        },
        {
          "output_type": "stream",
          "name": "stderr",
          "text": [
            "100%|██████████| 170M/170M [00:08<00:00, 20.7MB/s]\n"
          ]
        },
        {
          "output_type": "stream",
          "name": "stdout",
          "text": [
            "Extracting ../cifar10/cifar-10-python.tar.gz to ../cifar10\n",
            "Files already downloaded and verified\n"
          ]
        }
      ]
    },
    {
      "cell_type": "markdown",
      "source": [
        "### **ResNet20 (with Adaptive Clipping)**"
      ],
      "metadata": {
        "id": "lYm-LBfyKdIG"
      }
    },
    {
      "cell_type": "code",
      "source": [
        "import torch.nn as nn\n",
        "import torch.nn.functional as F"
      ],
      "metadata": {
        "id": "rWZ9TeOnJcd6"
      },
      "execution_count": 8,
      "outputs": []
    },
    {
      "cell_type": "code",
      "source": [
        "class WSConv2d(nn.Conv2d):\n",
        "    def forward(self, x):\n",
        "        # Weight standardization\n",
        "        mean = self.weight.mean(dim=[1, 2, 3], keepdim=True)\n",
        "        std = self.weight.std(dim=[1, 2, 3], keepdim=True)\n",
        "        weight_standardized = (self.weight - mean) / (std + 1e-5)\n",
        "\n",
        "        return F.conv2d(x, weight_standardized, self.bias, self.stride,\n",
        "                        self.padding, self.dilation, self.groups)\n",
        "\n",
        "class BasicBlock(nn.Module):\n",
        "    def __init__(self, in_channels, out_channels, stride=1, num_groups=32):\n",
        "        super(BasicBlock, self).__init__()\n",
        "        #self.conv1 = nn.Conv2d(in_channels, out_channels, kernel_size=3, stride=stride, padding=1, bias=False) #First convolutional layer\n",
        "        self.conv1 = WSConv2d(in_channels, out_channels, kernel_size=3, stride=stride, padding=1, bias=False) #First weight-standardized convolutional layer\n",
        "        self.gn1 = nn.GroupNorm(num_groups, out_channels)  #GroupNorm for DP compatability\n",
        "\n",
        "        #self.conv2 = nn.Conv2d(out_channels, out_channels, kernel_size=3, stride=1, padding=1, bias=False)  #Second convolutional layer\n",
        "        self.conv2 = WSConv2d(out_channels, out_channels, kernel_size=3, stride=1, padding=1, bias=False) #Second weight-standardized convolutional layer\n",
        "        self.gn2 = nn.GroupNorm(num_groups, out_channels)  #GroupNorm for DP compatability\n",
        "        # Skip connection\n",
        "        self.shortcut = nn.Sequential()\n",
        "        if stride != 1 or in_channels != out_channels:\n",
        "            self.shortcut = nn.Sequential(\n",
        "                #nn.Conv2d(in_channels, out_channels, kernel_size=1, stride=stride, bias=False),\n",
        "                WSConv2d(in_channels, out_channels, kernel_size=1, stride=stride, bias=False),\n",
        "                nn.GroupNorm(num_groups, out_channels)  #GroupNorm for DP compatability\n",
        "            )\n",
        "\n",
        "    def forward(self, x):\n",
        "        out = F.relu(self.gn1(self.conv1(x)))\n",
        "        out = self.gn2(self.conv2(out))\n",
        "        out += self.shortcut(x)\n",
        "        out = F.relu(out)\n",
        "        return out\n",
        "\n",
        "class ResNet20(nn.Module):\n",
        "    def __init__(self, num_classes=10, num_groups=32):\n",
        "        super(ResNet20, self).__init__()\n",
        "        self.in_channels = 16\n",
        "        #Initial convolutional layer\n",
        "        #self.conv1 = nn.Conv2d(3, self.in_channels, kernel_size=3, stride=1, padding=1, bias=False)\n",
        "        self.conv1 = WSConv2d(3, self.in_channels, kernel_size=3, stride=1, padding=1, bias=False)\n",
        "        self.gn1 = nn.GroupNorm(num_groups, self.in_channels)  #GroupNorm for DP compatability\n",
        "        # Residual blocks\n",
        "        self.layer1 = self._make_layer(16, 3, stride=1, num_groups=4)   # 4 groups for 16 channels\n",
        "        self.layer2 = self._make_layer(32, 3, stride=2, num_groups=8)   # 8 groups for 32 channels\n",
        "        self.layer3 = self._make_layer(64, 3, stride=2, num_groups=16)  # 16 groups for 64 channels\n",
        "        # Fully connected layer\n",
        "        self.fc = nn.Linear(64, num_classes)\n",
        "\n",
        "    def _make_layer(self, out_channels, num_blocks, stride, num_groups):\n",
        "        layers = []\n",
        "        for _ in range(num_blocks):\n",
        "            layers.append(BasicBlock(self.in_channels, out_channels, stride, num_groups=num_groups))\n",
        "            self.in_channels = out_channels\n",
        "            stride = 1  #Only the first block in each layer has a stride of 1\n",
        "        return nn.Sequential(*layers)\n",
        "\n",
        "    def forward(self, x):\n",
        "        out = F.relu(self.gn1(self.conv1(x)))\n",
        "        out = self.layer1(out)\n",
        "        out = self.layer2(out)\n",
        "        out = self.layer3(out)\n",
        "        out = F.avg_pool2d(out, 8)\n",
        "        out = out.view(out.size(0), -1)\n",
        "        out = self.fc(out)\n",
        "        return out\n",
        "\n",
        "    #Adaptive Clipping\n",
        "    '''\n",
        "    def calculate_avg_grad_norm(model):\n",
        "        total_norm = 0.0\n",
        "        total_params = 0\n",
        "        for p in model.parameters():\n",
        "            if p.grad is not None:\n",
        "                param_norm = p.grad.data.norm(2).item()\n",
        "                total_norm += param_norm ** 2\n",
        "                total_params += 1\n",
        "        avg_grad_norm = (total_norm / total_params) ** 0.5\n",
        "        return avg_grad_norm\n",
        "    '''\n",
        "\n",
        "    #Grouped Gradient Clipping\n",
        "    '''\n",
        "    def clip_gradients_by_group(model, max_grad_norms):\n",
        "        \"\"\"Clip gradients by group of layers, based on the provided max_grad_norms list.\"\"\"\n",
        "        group_gradients = [[], []]  # Adjust the number of groups as necessary\n",
        "\n",
        "        # Group 1: Convolutional layers\n",
        "        group_gradients[0].extend([p for name, p in model.named_parameters() if 'conv' in name])\n",
        "\n",
        "        # Group 2: Fully connected layers\n",
        "        group_gradients[1].extend([p for name, p in model.named_parameters() if 'fc' in name])\n",
        "\n",
        "        # Clip gradients per group\n",
        "        for group, max_norm in zip(group_gradients, max_grad_norms):\n",
        "            total_norm = torch.norm(torch.stack([torch.norm(p.grad) for p in group if p.grad is not None]), 2)\n",
        "            clip_coef = max_norm / (total_norm + 1e-6)\n",
        "            if clip_coef < 1:\n",
        "                for p in group:\n",
        "                    if p.grad is not None:\n",
        "                        p.grad.mul_(clip_coef)\n",
        "    '''"
      ],
      "metadata": {
        "id": "rhpRnIcOL80C"
      },
      "execution_count": 9,
      "outputs": []
    },
    {
      "cell_type": "markdown",
      "source": [
        "### Model Assignment"
      ],
      "metadata": {
        "id": "DvtegZm1XY3F"
      }
    },
    {
      "cell_type": "code",
      "source": [
        "model = ResNet20(num_classes=10, num_groups=4)"
      ],
      "metadata": {
        "id": "Rd7j9ehaK0yh"
      },
      "execution_count": 10,
      "outputs": []
    },
    {
      "cell_type": "code",
      "source": [
        "from opacus.validators import ModuleValidator\n",
        "\n",
        "errors = ModuleValidator.validate(model, strict=False)\n",
        "errors[-5:]"
      ],
      "metadata": {
        "colab": {
          "base_uri": "https://localhost:8080/"
        },
        "id": "Kmb1UL1OFycC",
        "outputId": "b669d5f4-913a-4989-ad0f-3734ccd1fc2f"
      },
      "execution_count": 11,
      "outputs": [
        {
          "output_type": "execute_result",
          "data": {
            "text/plain": [
              "[]"
            ]
          },
          "metadata": {},
          "execution_count": 11
        }
      ]
    },
    {
      "cell_type": "code",
      "source": [
        "model = ModuleValidator.fix(model)\n",
        "ModuleValidator.validate(model, strict=False)"
      ],
      "metadata": {
        "colab": {
          "base_uri": "https://localhost:8080/"
        },
        "id": "CORRbNMzF3GO",
        "outputId": "4e3ab74f-3936-4549-e5dc-85ad48fff8bd"
      },
      "execution_count": 12,
      "outputs": [
        {
          "output_type": "execute_result",
          "data": {
            "text/plain": [
              "[]"
            ]
          },
          "metadata": {},
          "execution_count": 12
        }
      ]
    },
    {
      "cell_type": "code",
      "source": [
        "device = torch.device(\"cuda\" if torch.cuda.is_available() else \"cpu\")\n",
        "\n",
        "model = model.to(device)"
      ],
      "metadata": {
        "id": "2aiLjxaJF7NM"
      },
      "execution_count": 13,
      "outputs": []
    },
    {
      "cell_type": "code",
      "source": [
        "import torch.optim as optim\n",
        "from torch.optim.lr_scheduler import ReduceLROnPlateau\n",
        "\n",
        "criterion = nn.CrossEntropyLoss()\n",
        "optimizer = optim.SGD(model.parameters(), lr=LR, momentum=0.9)\n",
        "scheduler = ReduceLROnPlateau(optimizer, mode='max', factor=LR_FACTOR, patience=PATIENCE_VAL, verbose=True)"
      ],
      "metadata": {
        "id": "MPyD5vJiF8nJ"
      },
      "execution_count": 14,
      "outputs": []
    },
    {
      "cell_type": "code",
      "source": [
        "def accuracy(preds, labels):\n",
        "    return (preds == labels).mean()"
      ],
      "metadata": {
        "id": "uBBTGgtvF_wA"
      },
      "execution_count": 15,
      "outputs": []
    },
    {
      "cell_type": "code",
      "source": [
        "from opacus import PrivacyEngine\n",
        "\n",
        "privacy_engine = PrivacyEngine()\n",
        "\n",
        "model, optimizer, train_loader = privacy_engine.make_private_with_epsilon(\n",
        "    module=model,\n",
        "    optimizer=optimizer,\n",
        "    data_loader=train_loader,\n",
        "    epochs=EPOCHS,\n",
        "    target_epsilon=EPSILON,\n",
        "    target_delta=DELTA,\n",
        "    max_grad_norm=1.0,  #Starting with grad norm as 1 and adjusting it during training according to the specific quantile of the gradient norm distribution\n",
        ")\n",
        "\n",
        "print(f\"Using sigma={optimizer.noise_multiplier} and C=1.0\")"
      ],
      "metadata": {
        "colab": {
          "base_uri": "https://localhost:8080/"
        },
        "id": "1Sfq362zGDvM",
        "outputId": "85b5448c-b8f3-43f5-c205-a7f99178a504"
      },
      "execution_count": 16,
      "outputs": [
        {
          "output_type": "stream",
          "name": "stdout",
          "text": [
            "Using sigma=2.880859375 and C=1.0\n"
          ]
        }
      ]
    },
    {
      "cell_type": "code",
      "source": [
        "'''\n",
        "def adaptive_clipping(grad_norms, clip_norm, target_quantile, eta_C):   #Adjusts the clipping norm using geometric updates to match a target quantile.\n",
        "    #Calculate the fraction of gradients below the current clip norm\n",
        "    clipped_fraction = np.mean(grad_norms <= clip_norm)\n",
        "\n",
        "    #Update the clipping norm\n",
        "    new_clip_norm = clip_norm * np.exp(-eta_C * (clipped_fraction - target_quantile))\n",
        "    return new_clip_norm\n",
        "\n",
        "def calculate_grad_norms(model):    #Calculates the L2 norm of gradients for each parameter in the model.\n",
        "    grad_norms = []\n",
        "    for p in model.parameters():\n",
        "        if p.grad is not None:\n",
        "            grad_norms.append(p.grad.data.norm(2).item())\n",
        "    return np.array(grad_norms)\n",
        "'''"
      ],
      "metadata": {
        "id": "sOOFvY06jHDb"
      },
      "execution_count": null,
      "outputs": []
    },
    {
      "cell_type": "code",
      "source": [
        "def clip_gradients_layerwise(model, max_grad_norm):\n",
        "    \"\"\"\n",
        "    Clips gradients for each layer individually based on the max_grad_norm provided.\n",
        "    \"\"\"\n",
        "    for name, param in model.named_parameters():\n",
        "        if param.grad is not None:\n",
        "            # Calculate the gradient norm for this layer\n",
        "            layer_norm = param.grad.data.norm(2).item()\n",
        "            # Compute the clipping coefficient\n",
        "            clip_coef = max_grad_norm / (layer_norm + 1e-6)\n",
        "            # Apply clipping if the coefficient is less than 1\n",
        "            if clip_coef < 1:\n",
        "                param.grad.data.mul_(clip_coef)"
      ],
      "metadata": {
        "id": "TxuBfuhMs9iu"
      },
      "execution_count": 17,
      "outputs": []
    },
    {
      "cell_type": "code",
      "source": [
        "import numpy as np\n",
        "from opacus.utils.batch_memory_manager import BatchMemoryManager\n",
        "\n",
        "def train(model, train_loader, optimizer, epoch, device):\n",
        "    model.train()\n",
        "    criterion = nn.CrossEntropyLoss()\n",
        "\n",
        "    losses = []\n",
        "    top1_acc = []\n",
        "    clip_norm = initial_clip_norm  #Start with an initial clip norm\n",
        "    val_accuracy = 0\n",
        "\n",
        "    with BatchMemoryManager(\n",
        "        data_loader=train_loader,\n",
        "        max_physical_batch_size=MAX_PHYSICAL_BATCH_SIZE,\n",
        "        optimizer=optimizer\n",
        "    ) as memory_safe_data_loader:\n",
        "\n",
        "        for i, (images, target) in enumerate(memory_safe_data_loader):\n",
        "            optimizer.zero_grad()\n",
        "            images = images.to(device)\n",
        "            target = target.to(device)\n",
        "\n",
        "            #compute output\n",
        "            output = model(images)\n",
        "            loss = criterion(output, target)\n",
        "\n",
        "            preds = np.argmax(output.detach().cpu().numpy(), axis=1)\n",
        "            labels = target.detach().cpu().numpy()\n",
        "\n",
        "            #measure accuracy and record loss\n",
        "            acc = accuracy(preds, labels)\n",
        "\n",
        "            losses.append(loss.item())\n",
        "            top1_acc.append(acc)\n",
        "\n",
        "            loss.backward()\n",
        "\n",
        "            #Adaptive Clipping\n",
        "            '''\n",
        "            #Calculate gradient norms for the current batch\n",
        "            grad_norms = calculate_grad_norms(model)\n",
        "            #Update the clipping norm based on gradient norms\n",
        "            clip_norm = adaptive_clipping(grad_norms, clip_norm, target_quantile, eta_C)\n",
        "            #Clip gradients to the updated norm\n",
        "            torch.nn.utils.clip_grad_norm_(model.parameters(), clip_norm)\n",
        "            '''\n",
        "\n",
        "            # Layer-wise gradient clipping\n",
        "            clip_gradients_layerwise(model, max_grad_norm=1.0)\n",
        "\n",
        "            #Grouped Gradient Clipping\n",
        "            '''\n",
        "            clip_gradients_by_group(model, grouped_clipping_norms)\n",
        "            '''\n",
        "\n",
        "            val_accuracy += (output.argmax(1) == target).sum().item()\n",
        "\n",
        "            optimizer.step()\n",
        "\n",
        "            if (i+1) % 200 == 0:\n",
        "                epsilon = privacy_engine.get_epsilon(DELTA)\n",
        "                print(\n",
        "                    f\"\\tTrain Epoch: {epoch} \\t\"\n",
        "                    f\"Loss: {np.mean(losses):.6f} \"\n",
        "                    f\"Accuracy: {np.mean(top1_acc) * 100:.6f} \"\n",
        "                    f\"(ε = {epsilon:.2f}, δ = {DELTA})\"\n",
        "                )\n",
        "\n",
        "        val_accuracy /= len(train_loader.dataset)\n",
        "        scheduler.step(val_accuracy)\n",
        "        mean_loss = np.mean(losses)\n",
        "        mean_acc = np.mean(top1_acc)\n",
        "        return mean_loss, mean_acc\n"
      ],
      "metadata": {
        "id": "pwnw-AeZGEfw"
      },
      "execution_count": 18,
      "outputs": []
    },
    {
      "cell_type": "code",
      "source": [
        "def test(model, test_loader, device):\n",
        "    model.eval()\n",
        "    criterion = nn.CrossEntropyLoss()\n",
        "    losses = []\n",
        "    top1_acc = []\n",
        "\n",
        "    with torch.no_grad():\n",
        "        for images, target in test_loader:\n",
        "            images = images.to(device)\n",
        "            target = target.to(device)\n",
        "\n",
        "            output = model(images)\n",
        "            loss = criterion(output, target)\n",
        "            preds = np.argmax(output.detach().cpu().numpy(), axis=1)\n",
        "            labels = target.detach().cpu().numpy()\n",
        "            acc = accuracy(preds, labels)\n",
        "\n",
        "            losses.append(loss.item())\n",
        "            top1_acc.append(acc)\n",
        "\n",
        "    top1_avg = np.mean(top1_acc)\n",
        "\n",
        "    print(\n",
        "        f\"\\tTest set:\"\n",
        "        f\"Loss: {np.mean(losses):.6f} \"\n",
        "        f\"Acc: {top1_avg * 100:.6f} \"\n",
        "    )\n",
        "    mean_loss = np.mean(losses)\n",
        "    mean_acc = np.mean(top1_acc)\n",
        "    return mean_loss, mean_acc"
      ],
      "metadata": {
        "id": "LIeFSlNWGIEn"
      },
      "execution_count": 19,
      "outputs": []
    },
    {
      "cell_type": "code",
      "source": [
        "from tqdm.notebook import tqdm\n",
        "\n",
        "for epoch in tqdm(range(EPOCHS), desc=\"Epoch\", unit=\"epoch\"):\n",
        "    #train(model, train_loader, optimizer, epoch + 1, device)\n",
        "    val_accuracy = 0\n",
        "    val_accuracy, avg_loss, avg_accuracy = train(model, train_loader, optimizer, epoch + 1, device)\n",
        "    scheduler.step(val_accuracy)"
      ],
      "metadata": {
        "id": "GMzFi558GLoE",
        "colab": {
          "base_uri": "https://localhost:8080/",
          "height": 371,
          "referenced_widgets": [
            "09e3a108033d49d98aa79ed8d7d8178c",
            "f7aa9c6a85a3490bbec6056968567ad8",
            "d267396fb03b42988d8a95c7f91838b0",
            "c6a189b4a3904c2c869e4626edf0e40d",
            "9d140ce0f462421389fe0ff3e9a6e6fd",
            "ee40015b9e9b43179afcd668e8839421",
            "3cee7777570e47958869494e415d18df",
            "2a7f0bf5673b453e8f55063734e99551",
            "44a132f73d42412c8499f594fd44ed91",
            "bc46800953234cd382f8807dc00b95d8",
            "a3d08d07d0b549f5bb5e078ac72240bd"
          ]
        },
        "outputId": "3f85f152-53ab-4bd0-9bbc-0c6167a33e9c"
      },
      "execution_count": 20,
      "outputs": [
        {
          "output_type": "display_data",
          "data": {
            "text/plain": [
              "Epoch:   0%|          | 0/50 [00:00<?, ?epoch/s]"
            ],
            "application/vnd.jupyter.widget-view+json": {
              "version_major": 2,
              "version_minor": 0,
              "model_id": "09e3a108033d49d98aa79ed8d7d8178c"
            }
          },
          "metadata": {}
        },
        {
          "output_type": "error",
          "ename": "KeyboardInterrupt",
          "evalue": "",
          "traceback": [
            "\u001b[0;31m---------------------------------------------------------------------------\u001b[0m",
            "\u001b[0;31mKeyboardInterrupt\u001b[0m                         Traceback (most recent call last)",
            "\u001b[0;32m<ipython-input-20-a2ab42805e2a>\u001b[0m in \u001b[0;36m<cell line: 3>\u001b[0;34m()\u001b[0m\n\u001b[1;32m      4\u001b[0m     \u001b[0;31m#train(model, train_loader, optimizer, epoch + 1, device)\u001b[0m\u001b[0;34m\u001b[0m\u001b[0;34m\u001b[0m\u001b[0m\n\u001b[1;32m      5\u001b[0m     \u001b[0mval_accuracy\u001b[0m \u001b[0;34m=\u001b[0m \u001b[0;36m0\u001b[0m\u001b[0;34m\u001b[0m\u001b[0;34m\u001b[0m\u001b[0m\n\u001b[0;32m----> 6\u001b[0;31m     \u001b[0mval_accuracy\u001b[0m\u001b[0;34m,\u001b[0m \u001b[0mavg_loss\u001b[0m\u001b[0;34m,\u001b[0m \u001b[0mavg_accuracy\u001b[0m \u001b[0;34m=\u001b[0m \u001b[0mtrain\u001b[0m\u001b[0;34m(\u001b[0m\u001b[0mmodel\u001b[0m\u001b[0;34m,\u001b[0m \u001b[0mtrain_loader\u001b[0m\u001b[0;34m,\u001b[0m \u001b[0moptimizer\u001b[0m\u001b[0;34m,\u001b[0m \u001b[0mepoch\u001b[0m \u001b[0;34m+\u001b[0m \u001b[0;36m1\u001b[0m\u001b[0;34m,\u001b[0m \u001b[0mdevice\u001b[0m\u001b[0;34m)\u001b[0m\u001b[0;34m\u001b[0m\u001b[0;34m\u001b[0m\u001b[0m\n\u001b[0m\u001b[1;32m      7\u001b[0m     \u001b[0mscheduler\u001b[0m\u001b[0;34m.\u001b[0m\u001b[0mstep\u001b[0m\u001b[0;34m(\u001b[0m\u001b[0mval_accuracy\u001b[0m\u001b[0;34m)\u001b[0m\u001b[0;34m\u001b[0m\u001b[0;34m\u001b[0m\u001b[0m\n",
            "\u001b[0;32m<ipython-input-18-90af5f505880>\u001b[0m in \u001b[0;36mtrain\u001b[0;34m(model, train_loader, optimizer, epoch, device)\u001b[0m\n\u001b[1;32m     17\u001b[0m     ) as memory_safe_data_loader:\n\u001b[1;32m     18\u001b[0m \u001b[0;34m\u001b[0m\u001b[0m\n\u001b[0;32m---> 19\u001b[0;31m         \u001b[0;32mfor\u001b[0m \u001b[0mi\u001b[0m\u001b[0;34m,\u001b[0m \u001b[0;34m(\u001b[0m\u001b[0mimages\u001b[0m\u001b[0;34m,\u001b[0m \u001b[0mtarget\u001b[0m\u001b[0;34m)\u001b[0m \u001b[0;32min\u001b[0m \u001b[0menumerate\u001b[0m\u001b[0;34m(\u001b[0m\u001b[0mmemory_safe_data_loader\u001b[0m\u001b[0;34m)\u001b[0m\u001b[0;34m:\u001b[0m\u001b[0;34m\u001b[0m\u001b[0;34m\u001b[0m\u001b[0m\n\u001b[0m\u001b[1;32m     20\u001b[0m             \u001b[0moptimizer\u001b[0m\u001b[0;34m.\u001b[0m\u001b[0mzero_grad\u001b[0m\u001b[0;34m(\u001b[0m\u001b[0;34m)\u001b[0m\u001b[0;34m\u001b[0m\u001b[0;34m\u001b[0m\u001b[0m\n\u001b[1;32m     21\u001b[0m             \u001b[0mimages\u001b[0m \u001b[0;34m=\u001b[0m \u001b[0mimages\u001b[0m\u001b[0;34m.\u001b[0m\u001b[0mto\u001b[0m\u001b[0;34m(\u001b[0m\u001b[0mdevice\u001b[0m\u001b[0;34m)\u001b[0m\u001b[0;34m\u001b[0m\u001b[0;34m\u001b[0m\u001b[0m\n",
            "\u001b[0;32m/usr/local/lib/python3.10/dist-packages/torch/utils/data/dataloader.py\u001b[0m in \u001b[0;36m__next__\u001b[0;34m(self)\u001b[0m\n\u001b[1;32m    699\u001b[0m                 \u001b[0;31m# TODO(https://github.com/pytorch/pytorch/issues/76750)\u001b[0m\u001b[0;34m\u001b[0m\u001b[0;34m\u001b[0m\u001b[0m\n\u001b[1;32m    700\u001b[0m                 \u001b[0mself\u001b[0m\u001b[0;34m.\u001b[0m\u001b[0m_reset\u001b[0m\u001b[0;34m(\u001b[0m\u001b[0;34m)\u001b[0m  \u001b[0;31m# type: ignore[call-arg]\u001b[0m\u001b[0;34m\u001b[0m\u001b[0;34m\u001b[0m\u001b[0m\n\u001b[0;32m--> 701\u001b[0;31m             \u001b[0mdata\u001b[0m \u001b[0;34m=\u001b[0m \u001b[0mself\u001b[0m\u001b[0;34m.\u001b[0m\u001b[0m_next_data\u001b[0m\u001b[0;34m(\u001b[0m\u001b[0;34m)\u001b[0m\u001b[0;34m\u001b[0m\u001b[0;34m\u001b[0m\u001b[0m\n\u001b[0m\u001b[1;32m    702\u001b[0m             \u001b[0mself\u001b[0m\u001b[0;34m.\u001b[0m\u001b[0m_num_yielded\u001b[0m \u001b[0;34m+=\u001b[0m \u001b[0;36m1\u001b[0m\u001b[0;34m\u001b[0m\u001b[0;34m\u001b[0m\u001b[0m\n\u001b[1;32m    703\u001b[0m             if (\n",
            "\u001b[0;32m/usr/local/lib/python3.10/dist-packages/torch/utils/data/dataloader.py\u001b[0m in \u001b[0;36m_next_data\u001b[0;34m(self)\u001b[0m\n\u001b[1;32m    755\u001b[0m     \u001b[0;32mdef\u001b[0m \u001b[0m_next_data\u001b[0m\u001b[0;34m(\u001b[0m\u001b[0mself\u001b[0m\u001b[0;34m)\u001b[0m\u001b[0;34m:\u001b[0m\u001b[0;34m\u001b[0m\u001b[0;34m\u001b[0m\u001b[0m\n\u001b[1;32m    756\u001b[0m         \u001b[0mindex\u001b[0m \u001b[0;34m=\u001b[0m \u001b[0mself\u001b[0m\u001b[0;34m.\u001b[0m\u001b[0m_next_index\u001b[0m\u001b[0;34m(\u001b[0m\u001b[0;34m)\u001b[0m  \u001b[0;31m# may raise StopIteration\u001b[0m\u001b[0;34m\u001b[0m\u001b[0;34m\u001b[0m\u001b[0m\n\u001b[0;32m--> 757\u001b[0;31m         \u001b[0mdata\u001b[0m \u001b[0;34m=\u001b[0m \u001b[0mself\u001b[0m\u001b[0;34m.\u001b[0m\u001b[0m_dataset_fetcher\u001b[0m\u001b[0;34m.\u001b[0m\u001b[0mfetch\u001b[0m\u001b[0;34m(\u001b[0m\u001b[0mindex\u001b[0m\u001b[0;34m)\u001b[0m  \u001b[0;31m# may raise StopIteration\u001b[0m\u001b[0;34m\u001b[0m\u001b[0;34m\u001b[0m\u001b[0m\n\u001b[0m\u001b[1;32m    758\u001b[0m         \u001b[0;32mif\u001b[0m \u001b[0mself\u001b[0m\u001b[0;34m.\u001b[0m\u001b[0m_pin_memory\u001b[0m\u001b[0;34m:\u001b[0m\u001b[0;34m\u001b[0m\u001b[0;34m\u001b[0m\u001b[0m\n\u001b[1;32m    759\u001b[0m             \u001b[0mdata\u001b[0m \u001b[0;34m=\u001b[0m \u001b[0m_utils\u001b[0m\u001b[0;34m.\u001b[0m\u001b[0mpin_memory\u001b[0m\u001b[0;34m.\u001b[0m\u001b[0mpin_memory\u001b[0m\u001b[0;34m(\u001b[0m\u001b[0mdata\u001b[0m\u001b[0;34m,\u001b[0m \u001b[0mself\u001b[0m\u001b[0;34m.\u001b[0m\u001b[0m_pin_memory_device\u001b[0m\u001b[0;34m)\u001b[0m\u001b[0;34m\u001b[0m\u001b[0;34m\u001b[0m\u001b[0m\n",
            "\u001b[0;32m/usr/local/lib/python3.10/dist-packages/torch/utils/data/_utils/fetch.py\u001b[0m in \u001b[0;36mfetch\u001b[0;34m(self, possibly_batched_index)\u001b[0m\n\u001b[1;32m     50\u001b[0m                 \u001b[0mdata\u001b[0m \u001b[0;34m=\u001b[0m \u001b[0mself\u001b[0m\u001b[0;34m.\u001b[0m\u001b[0mdataset\u001b[0m\u001b[0;34m.\u001b[0m\u001b[0m__getitems__\u001b[0m\u001b[0;34m(\u001b[0m\u001b[0mpossibly_batched_index\u001b[0m\u001b[0;34m)\u001b[0m\u001b[0;34m\u001b[0m\u001b[0;34m\u001b[0m\u001b[0m\n\u001b[1;32m     51\u001b[0m             \u001b[0;32melse\u001b[0m\u001b[0;34m:\u001b[0m\u001b[0;34m\u001b[0m\u001b[0;34m\u001b[0m\u001b[0m\n\u001b[0;32m---> 52\u001b[0;31m                 \u001b[0mdata\u001b[0m \u001b[0;34m=\u001b[0m \u001b[0;34m[\u001b[0m\u001b[0mself\u001b[0m\u001b[0;34m.\u001b[0m\u001b[0mdataset\u001b[0m\u001b[0;34m[\u001b[0m\u001b[0midx\u001b[0m\u001b[0;34m]\u001b[0m \u001b[0;32mfor\u001b[0m \u001b[0midx\u001b[0m \u001b[0;32min\u001b[0m \u001b[0mpossibly_batched_index\u001b[0m\u001b[0;34m]\u001b[0m\u001b[0;34m\u001b[0m\u001b[0;34m\u001b[0m\u001b[0m\n\u001b[0m\u001b[1;32m     53\u001b[0m         \u001b[0;32melse\u001b[0m\u001b[0;34m:\u001b[0m\u001b[0;34m\u001b[0m\u001b[0;34m\u001b[0m\u001b[0m\n\u001b[1;32m     54\u001b[0m             \u001b[0mdata\u001b[0m \u001b[0;34m=\u001b[0m \u001b[0mself\u001b[0m\u001b[0;34m.\u001b[0m\u001b[0mdataset\u001b[0m\u001b[0;34m[\u001b[0m\u001b[0mpossibly_batched_index\u001b[0m\u001b[0;34m]\u001b[0m\u001b[0;34m\u001b[0m\u001b[0;34m\u001b[0m\u001b[0m\n",
            "\u001b[0;32m/usr/local/lib/python3.10/dist-packages/torch/utils/data/_utils/fetch.py\u001b[0m in \u001b[0;36m<listcomp>\u001b[0;34m(.0)\u001b[0m\n\u001b[1;32m     50\u001b[0m                 \u001b[0mdata\u001b[0m \u001b[0;34m=\u001b[0m \u001b[0mself\u001b[0m\u001b[0;34m.\u001b[0m\u001b[0mdataset\u001b[0m\u001b[0;34m.\u001b[0m\u001b[0m__getitems__\u001b[0m\u001b[0;34m(\u001b[0m\u001b[0mpossibly_batched_index\u001b[0m\u001b[0;34m)\u001b[0m\u001b[0;34m\u001b[0m\u001b[0;34m\u001b[0m\u001b[0m\n\u001b[1;32m     51\u001b[0m             \u001b[0;32melse\u001b[0m\u001b[0;34m:\u001b[0m\u001b[0;34m\u001b[0m\u001b[0;34m\u001b[0m\u001b[0m\n\u001b[0;32m---> 52\u001b[0;31m                 \u001b[0mdata\u001b[0m \u001b[0;34m=\u001b[0m \u001b[0;34m[\u001b[0m\u001b[0mself\u001b[0m\u001b[0;34m.\u001b[0m\u001b[0mdataset\u001b[0m\u001b[0;34m[\u001b[0m\u001b[0midx\u001b[0m\u001b[0;34m]\u001b[0m \u001b[0;32mfor\u001b[0m \u001b[0midx\u001b[0m \u001b[0;32min\u001b[0m \u001b[0mpossibly_batched_index\u001b[0m\u001b[0;34m]\u001b[0m\u001b[0;34m\u001b[0m\u001b[0;34m\u001b[0m\u001b[0m\n\u001b[0m\u001b[1;32m     53\u001b[0m         \u001b[0;32melse\u001b[0m\u001b[0;34m:\u001b[0m\u001b[0;34m\u001b[0m\u001b[0;34m\u001b[0m\u001b[0m\n\u001b[1;32m     54\u001b[0m             \u001b[0mdata\u001b[0m \u001b[0;34m=\u001b[0m \u001b[0mself\u001b[0m\u001b[0;34m.\u001b[0m\u001b[0mdataset\u001b[0m\u001b[0;34m[\u001b[0m\u001b[0mpossibly_batched_index\u001b[0m\u001b[0;34m]\u001b[0m\u001b[0;34m\u001b[0m\u001b[0;34m\u001b[0m\u001b[0m\n",
            "\u001b[0;32m/usr/local/lib/python3.10/dist-packages/torchvision/datasets/cifar.py\u001b[0m in \u001b[0;36m__getitem__\u001b[0;34m(self, index)\u001b[0m\n\u001b[1;32m    117\u001b[0m \u001b[0;34m\u001b[0m\u001b[0m\n\u001b[1;32m    118\u001b[0m         \u001b[0;32mif\u001b[0m \u001b[0mself\u001b[0m\u001b[0;34m.\u001b[0m\u001b[0mtransform\u001b[0m \u001b[0;32mis\u001b[0m \u001b[0;32mnot\u001b[0m \u001b[0;32mNone\u001b[0m\u001b[0;34m:\u001b[0m\u001b[0;34m\u001b[0m\u001b[0;34m\u001b[0m\u001b[0m\n\u001b[0;32m--> 119\u001b[0;31m             \u001b[0mimg\u001b[0m \u001b[0;34m=\u001b[0m \u001b[0mself\u001b[0m\u001b[0;34m.\u001b[0m\u001b[0mtransform\u001b[0m\u001b[0;34m(\u001b[0m\u001b[0mimg\u001b[0m\u001b[0;34m)\u001b[0m\u001b[0;34m\u001b[0m\u001b[0;34m\u001b[0m\u001b[0m\n\u001b[0m\u001b[1;32m    120\u001b[0m \u001b[0;34m\u001b[0m\u001b[0m\n\u001b[1;32m    121\u001b[0m         \u001b[0;32mif\u001b[0m \u001b[0mself\u001b[0m\u001b[0;34m.\u001b[0m\u001b[0mtarget_transform\u001b[0m \u001b[0;32mis\u001b[0m \u001b[0;32mnot\u001b[0m \u001b[0;32mNone\u001b[0m\u001b[0;34m:\u001b[0m\u001b[0;34m\u001b[0m\u001b[0;34m\u001b[0m\u001b[0m\n",
            "\u001b[0;32m/usr/local/lib/python3.10/dist-packages/torchvision/transforms/transforms.py\u001b[0m in \u001b[0;36m__call__\u001b[0;34m(self, img)\u001b[0m\n\u001b[1;32m     93\u001b[0m     \u001b[0;32mdef\u001b[0m \u001b[0m__call__\u001b[0m\u001b[0;34m(\u001b[0m\u001b[0mself\u001b[0m\u001b[0;34m,\u001b[0m \u001b[0mimg\u001b[0m\u001b[0;34m)\u001b[0m\u001b[0;34m:\u001b[0m\u001b[0;34m\u001b[0m\u001b[0;34m\u001b[0m\u001b[0m\n\u001b[1;32m     94\u001b[0m         \u001b[0;32mfor\u001b[0m \u001b[0mt\u001b[0m \u001b[0;32min\u001b[0m \u001b[0mself\u001b[0m\u001b[0;34m.\u001b[0m\u001b[0mtransforms\u001b[0m\u001b[0;34m:\u001b[0m\u001b[0;34m\u001b[0m\u001b[0;34m\u001b[0m\u001b[0m\n\u001b[0;32m---> 95\u001b[0;31m             \u001b[0mimg\u001b[0m \u001b[0;34m=\u001b[0m \u001b[0mt\u001b[0m\u001b[0;34m(\u001b[0m\u001b[0mimg\u001b[0m\u001b[0;34m)\u001b[0m\u001b[0;34m\u001b[0m\u001b[0;34m\u001b[0m\u001b[0m\n\u001b[0m\u001b[1;32m     96\u001b[0m         \u001b[0;32mreturn\u001b[0m \u001b[0mimg\u001b[0m\u001b[0;34m\u001b[0m\u001b[0;34m\u001b[0m\u001b[0m\n\u001b[1;32m     97\u001b[0m \u001b[0;34m\u001b[0m\u001b[0m\n",
            "\u001b[0;32m/usr/local/lib/python3.10/dist-packages/torchvision/transforms/transforms.py\u001b[0m in \u001b[0;36m__call__\u001b[0;34m(self, pic)\u001b[0m\n\u001b[1;32m    135\u001b[0m             \u001b[0mTensor\u001b[0m\u001b[0;34m:\u001b[0m \u001b[0mConverted\u001b[0m \u001b[0mimage\u001b[0m\u001b[0;34m.\u001b[0m\u001b[0;34m\u001b[0m\u001b[0;34m\u001b[0m\u001b[0m\n\u001b[1;32m    136\u001b[0m         \"\"\"\n\u001b[0;32m--> 137\u001b[0;31m         \u001b[0;32mreturn\u001b[0m \u001b[0mF\u001b[0m\u001b[0;34m.\u001b[0m\u001b[0mto_tensor\u001b[0m\u001b[0;34m(\u001b[0m\u001b[0mpic\u001b[0m\u001b[0;34m)\u001b[0m\u001b[0;34m\u001b[0m\u001b[0;34m\u001b[0m\u001b[0m\n\u001b[0m\u001b[1;32m    138\u001b[0m \u001b[0;34m\u001b[0m\u001b[0m\n\u001b[1;32m    139\u001b[0m     \u001b[0;32mdef\u001b[0m \u001b[0m__repr__\u001b[0m\u001b[0;34m(\u001b[0m\u001b[0mself\u001b[0m\u001b[0;34m)\u001b[0m \u001b[0;34m->\u001b[0m \u001b[0mstr\u001b[0m\u001b[0;34m:\u001b[0m\u001b[0;34m\u001b[0m\u001b[0;34m\u001b[0m\u001b[0m\n",
            "\u001b[0;32m/usr/local/lib/python3.10/dist-packages/torchvision/transforms/functional.py\u001b[0m in \u001b[0;36mto_tensor\u001b[0;34m(pic)\u001b[0m\n\u001b[1;32m    170\u001b[0m     \u001b[0;32mif\u001b[0m \u001b[0mpic\u001b[0m\u001b[0;34m.\u001b[0m\u001b[0mmode\u001b[0m \u001b[0;34m==\u001b[0m \u001b[0;34m\"1\"\u001b[0m\u001b[0;34m:\u001b[0m\u001b[0;34m\u001b[0m\u001b[0;34m\u001b[0m\u001b[0m\n\u001b[1;32m    171\u001b[0m         \u001b[0mimg\u001b[0m \u001b[0;34m=\u001b[0m \u001b[0;36m255\u001b[0m \u001b[0;34m*\u001b[0m \u001b[0mimg\u001b[0m\u001b[0;34m\u001b[0m\u001b[0;34m\u001b[0m\u001b[0m\n\u001b[0;32m--> 172\u001b[0;31m     \u001b[0mimg\u001b[0m \u001b[0;34m=\u001b[0m \u001b[0mimg\u001b[0m\u001b[0;34m.\u001b[0m\u001b[0mview\u001b[0m\u001b[0;34m(\u001b[0m\u001b[0mpic\u001b[0m\u001b[0;34m.\u001b[0m\u001b[0msize\u001b[0m\u001b[0;34m[\u001b[0m\u001b[0;36m1\u001b[0m\u001b[0;34m]\u001b[0m\u001b[0;34m,\u001b[0m \u001b[0mpic\u001b[0m\u001b[0;34m.\u001b[0m\u001b[0msize\u001b[0m\u001b[0;34m[\u001b[0m\u001b[0;36m0\u001b[0m\u001b[0;34m]\u001b[0m\u001b[0;34m,\u001b[0m \u001b[0mF_pil\u001b[0m\u001b[0;34m.\u001b[0m\u001b[0mget_image_num_channels\u001b[0m\u001b[0;34m(\u001b[0m\u001b[0mpic\u001b[0m\u001b[0;34m)\u001b[0m\u001b[0;34m)\u001b[0m\u001b[0;34m\u001b[0m\u001b[0;34m\u001b[0m\u001b[0m\n\u001b[0m\u001b[1;32m    173\u001b[0m     \u001b[0;31m# put it from HWC to CHW format\u001b[0m\u001b[0;34m\u001b[0m\u001b[0;34m\u001b[0m\u001b[0m\n\u001b[1;32m    174\u001b[0m     \u001b[0mimg\u001b[0m \u001b[0;34m=\u001b[0m \u001b[0mimg\u001b[0m\u001b[0;34m.\u001b[0m\u001b[0mpermute\u001b[0m\u001b[0;34m(\u001b[0m\u001b[0;34m(\u001b[0m\u001b[0;36m2\u001b[0m\u001b[0;34m,\u001b[0m \u001b[0;36m0\u001b[0m\u001b[0;34m,\u001b[0m \u001b[0;36m1\u001b[0m\u001b[0;34m)\u001b[0m\u001b[0;34m)\u001b[0m\u001b[0;34m.\u001b[0m\u001b[0mcontiguous\u001b[0m\u001b[0;34m(\u001b[0m\u001b[0;34m)\u001b[0m\u001b[0;34m\u001b[0m\u001b[0;34m\u001b[0m\u001b[0m\n",
            "\u001b[0;31mKeyboardInterrupt\u001b[0m: "
          ]
        }
      ]
    },
    {
      "cell_type": "code",
      "source": [
        "top1_acc = test(model, test_loader, device)"
      ],
      "metadata": {
        "id": "QqmRoFktGQ-d"
      },
      "execution_count": null,
      "outputs": []
    },
    {
      "cell_type": "code",
      "source": [],
      "metadata": {
        "id": "pwVXKJMSu0YI"
      },
      "execution_count": null,
      "outputs": []
    },
    {
      "cell_type": "code",
      "source": [
        "import matplotlib.pyplot as plt\n",
        "import pandas as pd\n",
        "\n",
        "# Function to train the model and collect metrics\n",
        "def train_and_evaluate(model, train_loader, test_loader, optimizer, criterion, privacy_engine, num_epochs, epsilon):\n",
        "    train_losses = []\n",
        "    test_losses = []\n",
        "    train_accuracies = []\n",
        "    test_accuracies = []\n",
        "    epsilons = []\n",
        "\n",
        "    # Set model to training mode\n",
        "    model.train()\n",
        "\n",
        "    # Attach the privacy engine with target epsilon\n",
        "    model, optimizer, train_loader = privacy_engine.make_private_with_epsilon(\n",
        "        module=model,\n",
        "        optimizer=optimizer,\n",
        "        data_loader=train_loader,\n",
        "        epochs=num_epochs,\n",
        "        target_epsilon=epsilon,\n",
        "        target_delta=DELTA,\n",
        "        max_grad_norm=1.0\n",
        "    )\n",
        "\n",
        "    for epoch in range(num_epochs):\n",
        "        # Train\n",
        "        train_loss, train_acc = train(model, train_loader, optimizer, epoch + 1, device)\n",
        "        train_losses.append(train_loss)\n",
        "        train_accuracies.append(train_acc)\n",
        "\n",
        "        # Set model back to training mode before the next epoch\n",
        "        model.train()\n",
        "\n",
        "        # Store epsilon at each epoch\n",
        "        current_epsilon = privacy_engine.get_epsilon(DELTA)\n",
        "        epsilons.append(current_epsilon)\n",
        "     # Set model to evaluation mode before testing\n",
        "    model.eval()\n",
        "\n",
        "    # Test\n",
        "    test_loss, test_acc = test(model, test_loader, device)\n",
        "    test_losses.append(test_loss)\n",
        "    test_accuracies.append(test_acc)\n",
        "\n",
        "    return {\n",
        "        'train_loss': train_losses,\n",
        "        'test_loss': test_losses,\n",
        "        'train_accuracy': train_accuracies,\n",
        "        'test_accuracy': test_accuracies,\n",
        "        'epsilons': epsilons\n",
        "    }\n"
      ],
      "metadata": {
        "id": "y0fdGKbUEPqh"
      },
      "execution_count": 21,
      "outputs": []
    },
    {
      "cell_type": "code",
      "source": [
        "def run_ablation_study(model, train_loader, test_loader, criterion, privacy_engine, optimizer, epochs_list, epsilon_list):\n",
        "    results = {}\n",
        "\n",
        "    for eps in epsilon_list:\n",
        "        print(f\"Running experiments for ε = {eps}\")\n",
        "        epsilon_results = []\n",
        "\n",
        "        for num_epochs in epochs_list:\n",
        "            print(f\"\\tTraining with {num_epochs} epochs...\")\n",
        "            metrics = train_and_evaluate(model, train_loader, test_loader, optimizer, criterion, privacy_engine, num_epochs, eps)\n",
        "            epsilon_results.append(metrics)\n",
        "\n",
        "        results[eps] = epsilon_results\n",
        "\n",
        "    return results\n",
        "\n",
        "# Hyperparameters for Ablation Study\n",
        "EPOCHS_LIST = [50]  # Different epochs to try\n",
        "EPSILON_LIST = [3.0]  # Different epsilon values for DP\n",
        "\n",
        "# Run ablation study\n",
        "results = run_ablation_study(model, train_loader, test_loader, criterion, privacy_engine, optimizer, EPOCHS_LIST, EPSILON_LIST)\n"
      ],
      "metadata": {
        "colab": {
          "base_uri": "https://localhost:8080/"
        },
        "id": "T5qQNPTtEjZB",
        "outputId": "7b9fc708-cd08-4b3e-d581-4a3de215f6ea"
      },
      "execution_count": 22,
      "outputs": [
        {
          "output_type": "stream",
          "name": "stdout",
          "text": [
            "Running experiments for ε = 3.0\n",
            "\tTraining with 50 epochs...\n",
            "\tTrain Epoch: 1 \tLoss: 2.337799 Accuracy: 10.360935 (ε = 0.29, δ = 1e-05)\n",
            "\tTrain Epoch: 2 \tLoss: 2.059595 Accuracy: 20.545306 (ε = 0.49, δ = 1e-05)\n",
            "\tTrain Epoch: 3 \tLoss: 1.909468 Accuracy: 28.270215 (ε = 0.63, δ = 1e-05)\n",
            "\tTrain Epoch: 4 \tLoss: 1.809428 Accuracy: 33.672734 (ε = 0.74, δ = 1e-05)\n",
            "\tTrain Epoch: 5 \tLoss: 1.721487 Accuracy: 37.781361 (ε = 0.84, δ = 1e-05)\n",
            "\tTrain Epoch: 6 \tLoss: 1.660822 Accuracy: 41.213628 (ε = 0.93, δ = 1e-05)\n",
            "\tTrain Epoch: 7 \tLoss: 1.627217 Accuracy: 43.820080 (ε = 1.01, δ = 1e-05)\n",
            "\tTrain Epoch: 8 \tLoss: 1.593752 Accuracy: 46.582313 (ε = 1.09, δ = 1e-05)\n",
            "\tTrain Epoch: 9 \tLoss: 1.625519 Accuracy: 47.134564 (ε = 1.16, δ = 1e-05)\n",
            "\tTrain Epoch: 10 \tLoss: 1.629337 Accuracy: 48.438653 (ε = 1.23, δ = 1e-05)\n",
            "\tTrain Epoch: 11 \tLoss: 1.627218 Accuracy: 48.631728 (ε = 1.30, δ = 1e-05)\n",
            "\tTrain Epoch: 12 \tLoss: 1.572514 Accuracy: 50.831342 (ε = 1.36, δ = 1e-05)\n",
            "\tTrain Epoch: 13 \tLoss: 1.594313 Accuracy: 51.219755 (ε = 1.42, δ = 1e-05)\n",
            "\tTrain Epoch: 14 \tLoss: 1.585424 Accuracy: 51.928470 (ε = 1.48, δ = 1e-05)\n",
            "\tTrain Epoch: 15 \tLoss: 1.550252 Accuracy: 52.864458 (ε = 1.53, δ = 1e-05)\n",
            "\tTrain Epoch: 16 \tLoss: 1.566294 Accuracy: 53.273510 (ε = 1.59, δ = 1e-05)\n",
            "\tTrain Epoch: 17 \tLoss: 1.538291 Accuracy: 54.430878 (ε = 1.64, δ = 1e-05)\n",
            "\tTrain Epoch: 18 \tLoss: 1.551861 Accuracy: 54.786696 (ε = 1.70, δ = 1e-05)\n",
            "\tTrain Epoch: 19 \tLoss: 1.541234 Accuracy: 55.294697 (ε = 1.75, δ = 1e-05)\n",
            "\tTrain Epoch: 20 \tLoss: 1.531997 Accuracy: 56.303205 (ε = 1.80, δ = 1e-05)\n",
            "\tTrain Epoch: 21 \tLoss: 1.565219 Accuracy: 56.630942 (ε = 1.85, δ = 1e-05)\n",
            "\tTrain Epoch: 22 \tLoss: 1.570181 Accuracy: 56.664479 (ε = 1.89, δ = 1e-05)\n",
            "\tTrain Epoch: 23 \tLoss: 1.518297 Accuracy: 57.938158 (ε = 1.94, δ = 1e-05)\n",
            "\tTrain Epoch: 24 \tLoss: 1.566320 Accuracy: 56.859833 (ε = 1.99, δ = 1e-05)\n",
            "\tTrain Epoch: 24 \tLoss: 1.573536 Accuracy: 56.846954 (ε = 2.01, δ = 1e-05)\n",
            "\tTrain Epoch: 25 \tLoss: 1.503580 Accuracy: 57.506698 (ε = 2.03, δ = 1e-05)\n",
            "\tTrain Epoch: 26 \tLoss: 1.493878 Accuracy: 58.729321 (ε = 2.07, δ = 1e-05)\n",
            "\tTrain Epoch: 27 \tLoss: 1.488668 Accuracy: 58.539719 (ε = 2.12, δ = 1e-05)\n",
            "\tTrain Epoch: 28 \tLoss: 1.505231 Accuracy: 58.822071 (ε = 2.16, δ = 1e-05)\n",
            "\tTrain Epoch: 29 \tLoss: 1.506760 Accuracy: 59.255827 (ε = 2.20, δ = 1e-05)\n",
            "\tTrain Epoch: 29 \tLoss: 1.522082 Accuracy: 59.113190 (ε = 2.23, δ = 1e-05)\n",
            "\tTrain Epoch: 30 \tLoss: 1.473749 Accuracy: 59.729302 (ε = 2.24, δ = 1e-05)\n",
            "\tTrain Epoch: 31 \tLoss: 1.471066 Accuracy: 59.811996 (ε = 2.29, δ = 1e-05)\n",
            "\tTrain Epoch: 32 \tLoss: 1.456891 Accuracy: 60.666184 (ε = 2.33, δ = 1e-05)\n",
            "\tTrain Epoch: 33 \tLoss: 1.444573 Accuracy: 60.720724 (ε = 2.37, δ = 1e-05)\n",
            "\tTrain Epoch: 34 \tLoss: 1.495905 Accuracy: 60.130671 (ε = 2.40, δ = 1e-05)\n",
            "\tTrain Epoch: 35 \tLoss: 1.446582 Accuracy: 61.305524 (ε = 2.44, δ = 1e-05)\n",
            "\tTrain Epoch: 36 \tLoss: 1.456314 Accuracy: 61.235753 (ε = 2.48, δ = 1e-05)\n",
            "\tTrain Epoch: 37 \tLoss: 1.438980 Accuracy: 61.519405 (ε = 2.52, δ = 1e-05)\n",
            "\tTrain Epoch: 38 \tLoss: 1.438458 Accuracy: 61.739603 (ε = 2.56, δ = 1e-05)\n",
            "\tTrain Epoch: 39 \tLoss: 1.429415 Accuracy: 61.926482 (ε = 2.59, δ = 1e-05)\n",
            "\tTrain Epoch: 40 \tLoss: 1.460238 Accuracy: 62.068073 (ε = 2.63, δ = 1e-05)\n",
            "\tTrain Epoch: 41 \tLoss: 1.488167 Accuracy: 61.970394 (ε = 2.67, δ = 1e-05)\n",
            "\tTrain Epoch: 42 \tLoss: 1.410854 Accuracy: 62.674828 (ε = 2.70, δ = 1e-05)\n",
            "\tTrain Epoch: 43 \tLoss: 1.427187 Accuracy: 62.679297 (ε = 2.74, δ = 1e-05)\n",
            "\tTrain Epoch: 44 \tLoss: 1.422370 Accuracy: 63.238746 (ε = 2.77, δ = 1e-05)\n",
            "\tTrain Epoch: 45 \tLoss: 1.400344 Accuracy: 63.568076 (ε = 2.81, δ = 1e-05)\n",
            "\tTrain Epoch: 46 \tLoss: 1.422969 Accuracy: 63.246547 (ε = 2.84, δ = 1e-05)\n",
            "\tTrain Epoch: 47 \tLoss: 1.446482 Accuracy: 63.048978 (ε = 2.88, δ = 1e-05)\n",
            "\tTrain Epoch: 48 \tLoss: 1.424913 Accuracy: 63.328529 (ε = 2.91, δ = 1e-05)\n",
            "\tTrain Epoch: 49 \tLoss: 1.409531 Accuracy: 64.081919 (ε = 2.95, δ = 1e-05)\n",
            "\tTrain Epoch: 50 \tLoss: 1.439484 Accuracy: 63.553650 (ε = 2.98, δ = 1e-05)\n",
            "\tTest set:Loss: 1.474772 Acc: 62.964515 \n"
          ]
        }
      ]
    },
    {
      "cell_type": "code",
      "source": [],
      "metadata": {
        "id": "bnqlZZlivE19"
      },
      "execution_count": null,
      "outputs": []
    },
    {
      "cell_type": "code",
      "source": [
        "import matplotlib.pyplot as plt\n",
        "\n",
        "# Function to plot train accuracy vs epsilon for different epoch values\n",
        "def plot_train_accuracy_vs_epsilon(results, epochs_list, epsilon_list):\n",
        "    plt.figure(figsize=(8, 6))\n",
        "\n",
        "    # Loop over the number of epochs\n",
        "    for epoch_idx, num_epochs in enumerate(epochs_list):\n",
        "        epsilons = []\n",
        "        train_accuracies = []\n",
        "\n",
        "        # Loop over the different epsilon values for this epoch count\n",
        "        for eps in epsilon_list:\n",
        "            metrics = results[eps][epoch_idx]\n",
        "\n",
        "            # Collect the actual epsilon values and corresponding final train accuracy\n",
        "            epsilons.extend(metrics['epsilons'])  # Collect all computed epsilon values\n",
        "            train_accuracies.extend([acc * 100 for acc in metrics['train_accuracy']])  # Convert accuracy to percentage\n",
        "\n",
        "        # Plot train accuracy vs epsilon for this epoch count\n",
        "        plt.plot(epsilons, train_accuracies, label=f\"{num_epochs} epochs\", marker='o', linestyle='-')\n",
        "\n",
        "        # Annotate the last point with the train accuracy value\n",
        "        plt.annotate(f\"{train_accuracies[-1]:.2f}%\",\n",
        "                     (epsilons[-1], train_accuracies[-1]),\n",
        "                     textcoords=\"offset points\",\n",
        "                     xytext=(0,10),\n",
        "                     ha='center')\n",
        "\n",
        "    # Label the plot\n",
        "    plt.xlabel('Epsilon (ε-DP)')\n",
        "    plt.ylabel('Train Accuracy (%)')\n",
        "    plt.title('Train Accuracy vs Epsilon for Different Epochs')\n",
        "    plt.legend(title=\"Epochs\")\n",
        "    plt.grid(True)\n",
        "\n",
        "    # Set y-axis to percentage formatting\n",
        "    plt.gca().yaxis.set_major_formatter(plt.FuncFormatter(lambda x, _: f'{x:.0f}%'))\n",
        "\n",
        "    plt.tight_layout()\n",
        "    plt.show()\n",
        "\n",
        "# Call the function to plot the results\n",
        "plot_train_accuracy_vs_epsilon(results, EPOCHS_LIST, EPSILON_LIST)\n"
      ],
      "metadata": {
        "id": "K9u6xOuNbCt7",
        "colab": {
          "base_uri": "https://localhost:8080/",
          "height": 607
        },
        "outputId": "7b3756ad-4f4b-4544-ac39-d6656229fdbb"
      },
      "execution_count": 23,
      "outputs": [
        {
          "output_type": "display_data",
          "data": {
            "text/plain": [
              "<Figure size 800x600 with 1 Axes>"
            ],
            "image/png": "[encoded data removed]"
          },
          "metadata": {}
        }
      ]
    },
    {
      "cell_type": "code",
      "source": [
        "import matplotlib.pyplot as plt\n",
        "\n",
        "# Function to plot train loss vs epsilon for different epoch values\n",
        "def plot_train_loss_vs_epsilon(results, epochs_list, epsilon_list):\n",
        "    plt.figure(figsize=(8, 6))\n",
        "\n",
        "    # Loop over the number of epochs\n",
        "    for epoch_idx, num_epochs in enumerate(epochs_list):\n",
        "        epsilons = []\n",
        "        train_losses = []\n",
        "\n",
        "        # Loop over the different epsilon values for this epoch count\n",
        "        for eps in epsilon_list:\n",
        "            metrics = results[eps][epoch_idx]\n",
        "\n",
        "            # Collect the actual epsilon values and corresponding final train loss\n",
        "            epsilons.extend(metrics['epsilons'])  # Collect all computed epsilon values\n",
        "            train_losses.extend(metrics['train_loss'])  # Collect corresponding loss values\n",
        "\n",
        "        # Plot train loss vs epsilon for this epoch count\n",
        "        plt.plot(epsilons, train_losses, label=f\"{num_epochs} epochs\", marker='o', linestyle='-')\n",
        "\n",
        "        # Annotate the last point with the train loss value\n",
        "        plt.annotate(f\"{train_losses[-1]:.2f}\",\n",
        "                     (epsilons[-1], train_losses[-1]),\n",
        "                     textcoords=\"offset points\",\n",
        "                     xytext=(0,10),\n",
        "                     ha='center')\n",
        "\n",
        "    # Label the plot\n",
        "    plt.xlabel('Epsilon (ε-DP)')\n",
        "    plt.ylabel('Train Loss')\n",
        "    plt.title('Train Loss vs Epsilon for Different Epochs')\n",
        "    plt.legend(title=\"Epochs\")\n",
        "    plt.grid(True)\n",
        "\n",
        "    plt.tight_layout()\n",
        "    plt.show()\n",
        "\n",
        "# Call the function to plot the results\n",
        "plot_train_loss_vs_epsilon(results, EPOCHS_LIST, EPSILON_LIST)\n"
      ],
      "metadata": {
        "colab": {
          "base_uri": "https://localhost:8080/",
          "height": 607
        },
        "id": "aB9_xjCpTAWc",
        "outputId": "97280f89-af2d-413e-92c5-55b25e0228ce"
      },
      "execution_count": 24,
      "outputs": [
        {
          "output_type": "display_data",
          "data": {
            "text/plain": [
              "<Figure size 800x600 with 1 Axes>"
            ],
            "image/png": "[encoded data removed]"
          },
          "metadata": {}
        }
      ]
    }
  ]
}